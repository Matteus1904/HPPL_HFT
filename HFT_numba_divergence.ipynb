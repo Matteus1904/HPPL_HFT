{
 "cells": [
  {
   "cell_type": "code",
   "execution_count": 1,
   "metadata": {},
   "outputs": [],
   "source": [
    "import polars as pl\n",
    "import numpy as np\n",
    "from numba import njit, guvectorize\n",
    "import matplotlib.pyplot as plt\n",
    "import pandas as pd"
   ]
  },
  {
   "cell_type": "code",
   "execution_count": 2,
   "metadata": {},
   "outputs": [],
   "source": [
    "def pandas_sma(series, window):\n",
    "    return series.rolling(window).mean()"
   ]
  },
  {
   "cell_type": "code",
   "execution_count": 3,
   "metadata": {},
   "outputs": [],
   "source": [
    "def polars_sma(series, window):\n",
    "    return series.rolling_mean(window_size=window)"
   ]
  },
  {
   "cell_type": "code",
   "execution_count": 4,
   "metadata": {},
   "outputs": [],
   "source": [
    "# https://numba.readthedocs.io/en/stable/user/vectorize.html?highlight=guvectorize#the-guvectorize-decorator\n",
    "# https://numba.readthedocs.io/en/stable/user/examples.html?highlight=moving%20average#moving-average\n",
    "\n",
    "@guvectorize(['void(float64[:], intp[:], float64[:])'],\n",
    "\n",
    "             '(n),()->(n)')\n",
    "\n",
    "def move_mean(a, window_arr, out):\n",
    "    window_width = window_arr[0]\n",
    "    asum = 0.0\n",
    "    count = 0\n",
    "\n",
    "    for i in range(window_width):\n",
    "        asum += a[i]\n",
    "        count += 1\n",
    "        out[i] = asum / count\n",
    "\n",
    "    for i in range(window_width, len(a)):\n",
    "        asum += a[i] - a[i - window_width]\n",
    "        out[i] = asum / count"
   ]
  },
  {
   "cell_type": "code",
   "execution_count": 5,
   "metadata": {},
   "outputs": [],
   "source": [
    "book = pl.read_csv('book.csv')\n",
    "book = book[[\"timestamp\", \"asks[0].price\", \"bids[0].price\"]]\n",
    "book = book.with_columns(\n",
    "    mid_price_future = (book[\"asks[0].price\"] + book[\"bids[0].price\"]) * 0.5\n",
    ").drop([\"asks[0].price\", \"bids[0].price\"]).set_sorted(\"timestamp\")"
   ]
  },
  {
   "cell_type": "code",
   "execution_count": 6,
   "metadata": {},
   "outputs": [],
   "source": [
    "book_spot = pl.read_csv(\"book.spot.csv\")\n",
    "book_spot = book_spot[[\"timestamp\", \"asks[0].price\", \"bids[0].price\"]]\n",
    "book_spot = book_spot.with_columns(\n",
    "    mid_price_spot = (book_spot[\"asks[0].price\"] + book_spot[\"bids[0].price\"]) * 0.5\n",
    ").drop([\"asks[0].price\", \"bids[0].price\"]).set_sorted(\"timestamp\")"
   ]
  },
  {
   "cell_type": "code",
   "execution_count": 7,
   "metadata": {},
   "outputs": [],
   "source": [
    "merged = book_spot.join_asof(book, on=\"timestamp\", strategy=\"nearest\").drop(\"timestamp\")"
   ]
  },
  {
   "cell_type": "code",
   "execution_count": 8,
   "metadata": {},
   "outputs": [],
   "source": [
    "differences = (merged.with_columns(\n",
    "    difference = (merged[\"mid_price_spot\"] / merged[\"mid_price_future\"] - 1) * 10000\n",
    ").drop([\"mid_price_spot\", \"mid_price_future\"])).to_numpy().flatten()"
   ]
  },
  {
   "cell_type": "code",
   "execution_count": 9,
   "metadata": {},
   "outputs": [],
   "source": [
    "def calcualate_timings_windows(differences, windows):\n",
    "    numba_timings = []\n",
    "    polars_timings = []\n",
    "    pandas_timings = []\n",
    "    for window in windows:\n",
    "        differences_polars = pl.Series(differences)\n",
    "        differences_pd = pd.Series(differences)\n",
    "\n",
    "        out = np.zeros(differences.shape)\n",
    "        time_numba = %timeit -n 5 -r 5 -o move_mean(differences, window, out)\n",
    "        time_polars = %timeit -n 5 -r 5 -o out_pandas = polars_sma(differences_polars, window)\n",
    "        time_pandas = %timeit -n 5 -r 5 -o out_pandas = pandas_sma(differences_pd, window)\n",
    "\n",
    "        numba_timings.append(time_numba.average)\n",
    "        polars_timings.append(time_polars.average)\n",
    "        pandas_timings.append(time_pandas.average)\n",
    "\n",
    "    numba_timings = np.array(numba_timings)\n",
    "    polars_timings = np.array(polars_timings)\n",
    "    pandas_timings = np.array(pandas_timings)\n",
    "\n",
    "    return numba_timings, polars_timings, pandas_timings"
   ]
  },
  {
   "cell_type": "code",
   "execution_count": 10,
   "metadata": {},
   "outputs": [
    {
     "name": "stdout",
     "output_type": "stream",
     "text": [
      "4.23 ms ± 651 µs per loop (mean ± std. dev. of 5 runs, 5 loops each)\n",
      "12.7 ms ± 526 µs per loop (mean ± std. dev. of 5 runs, 5 loops each)\n",
      "31.5 ms ± 902 µs per loop (mean ± std. dev. of 5 runs, 5 loops each)\n",
      "3.4 ms ± 318 µs per loop (mean ± std. dev. of 5 runs, 5 loops each)\n",
      "12.3 ms ± 160 µs per loop (mean ± std. dev. of 5 runs, 5 loops each)\n",
      "31.3 ms ± 379 µs per loop (mean ± std. dev. of 5 runs, 5 loops each)\n",
      "3.27 ms ± 356 µs per loop (mean ± std. dev. of 5 runs, 5 loops each)\n",
      "12.5 ms ± 106 µs per loop (mean ± std. dev. of 5 runs, 5 loops each)\n",
      "32.5 ms ± 1.82 ms per loop (mean ± std. dev. of 5 runs, 5 loops each)\n",
      "3.4 ms ± 52.5 µs per loop (mean ± std. dev. of 5 runs, 5 loops each)\n",
      "12.7 ms ± 128 µs per loop (mean ± std. dev. of 5 runs, 5 loops each)\n",
      "32.1 ms ± 334 µs per loop (mean ± std. dev. of 5 runs, 5 loops each)\n"
     ]
    }
   ],
   "source": [
    "windows = 10 ** np.arange(2, 6, 1)\n",
    "numba_timings, polars_timings, pandas_timings= calcualate_timings_windows(differences, [100, 1000, 10000, 100000])"
   ]
  },
  {
   "cell_type": "code",
   "execution_count": 11,
   "metadata": {},
   "outputs": [
    {
     "data": {
      "text/plain": [
       "Text(0.5, 1.0, 'Numba vs Polars vs Pandas')"
      ]
     },
     "execution_count": 11,
     "metadata": {},
     "output_type": "execute_result"
    },
    {
     "data": {
      "image/png": "[encoded data removed]",
      "text/plain": [
       "<Figure size 640x480 with 1 Axes>"
      ]
     },
     "metadata": {},
     "output_type": "display_data"
    }
   ],
   "source": [
    "plt.plot(windows, numba_timings, label = 'Numba')\n",
    "plt.plot(windows, polars_timings, label = 'Polars')\n",
    "plt.plot(windows, pandas_timings, label = 'Pandas')\n",
    "plt.xlabel(\"Window size\")\n",
    "plt.ylabel(\"Time\")\n",
    "plt.legend()\n",
    "plt.title(\"Numba vs Polars vs Pandas\")"
   ]
  }
 ],
 "metadata": {
  "kernelspec": {
   "display_name": "ML_project",
   "language": "python",
   "name": "python3"
  },
  "language_info": {
   "codemirror_mode": {
    "name": "ipython",
    "version": 3
   },
   "file_extension": ".py",
   "mimetype": "text/x-python",
   "name": "python",
   "nbconvert_exporter": "python",
   "pygments_lexer": "ipython3",
   "version": "3.10.12"
  }
 },
 "nbformat": 4,
 "nbformat_minor": 2
}
