{
 "cells": [
  {
   "cell_type": "code",
   "execution_count": 1,
   "metadata": {},
   "outputs": [],
   "source": [
    "import polars as pl\n",
    "import numpy as np\n",
    "from numba import njit"
   ]
  },
  {
   "cell_type": "code",
   "execution_count": 2,
   "metadata": {},
   "outputs": [],
   "source": [
    "book = pl.read_csv('book.csv')"
   ]
  },
  {
   "cell_type": "code",
   "execution_count": 3,
   "metadata": {},
   "outputs": [],
   "source": [
    "book = book.drop(['exchange',\t'symbol',\t'timestamp',\t'local_timestamp'])"
   ]
  },
  {
   "cell_type": "code",
   "execution_count": 4,
   "metadata": {},
   "outputs": [],
   "source": [
    "book_np = book.to_numpy()"
   ]
  },
  {
   "cell_type": "code",
   "execution_count": 5,
   "metadata": {},
   "outputs": [],
   "source": [
    "N = (np.median(book_np[:,np.arange(1, 14, 4)], axis = 1)+np.median(book_np[:,np.arange(3, 16, 4)], axis = 1))/2"
   ]
  },
  {
   "cell_type": "code",
   "execution_count": 6,
   "metadata": {},
   "outputs": [
    {
     "name": "stderr",
     "output_type": "stream",
     "text": [
      "/home/matvey/.pyenv/versions/3.9.16/envs/ML_project/lib/python3.9/site-packages/numba/np/ufunc/parallel.py:371: NumbaWarning: \u001b[1mThe TBB threading layer requires TBB version 2021 update 6 or later i.e., TBB_INTERFACE_VERSION >= 12060. Found TBB_INTERFACE_VERSION = 12050. The TBB threading layer is disabled.\u001b[0m\n",
      "  warnings.warn(problem)\n"
     ]
    }
   ],
   "source": [
    "@njit(nogil=True, fastmath=True, parallel = True)\n",
    "def run_book(book_np, N):\n",
    "    IMB_a = np.zeros(len(book_np))\n",
    "    IMB_b = np.zeros(len(book_np))\n",
    "    for row in range(len(book_np)):\n",
    "        p_a = 0\n",
    "        need_to_buy = N[row]\n",
    "        for i in range(1, 100, 4):\n",
    "            if need_to_buy <= book_np[row][i]:\n",
    "                p_a+=need_to_buy*book_np[row][i-1]\n",
    "                need_to_buy = 0.\n",
    "                break\n",
    "            else:\n",
    "                p_a+=book_np[row][i]*book_np[row][i-1]\n",
    "                need_to_buy -=book_np[row][i]\n",
    "        if need_to_buy !=0.:\n",
    "            p_a +=need_to_buy*book_np[row][96]\n",
    "            need_to_buy =0.\n",
    "        p_a /= N[row]\n",
    "        IMB_a[row] = (p_a/book_np[row][0] - 1)*10000\n",
    "\n",
    "\n",
    "        p_b = 0\n",
    "        need_to_buy = N[row]\n",
    "        for i in range(3, 100, 4):\n",
    "            if need_to_buy <= book_np[row][i]:\n",
    "                p_b+=need_to_buy*book_np[row][i-1]\n",
    "                need_to_buy = 0.\n",
    "                break\n",
    "            else:\n",
    "                p_b+=book_np[row][i]*book_np[row][i-1]\n",
    "                need_to_buy -=book_np[row][i]\n",
    "        if need_to_buy !=0.:\n",
    "            p_b +=need_to_buy*book_np[row][98]\n",
    "            need_to_buy =0.\n",
    "        p_b /= N[row]\n",
    "        IMB_b[row] = (book_np[row][2]/p_b - 1)*10000\n",
    "    return IMB_a, IMB_b\n",
    "\n",
    "IMB_a, IMB_b = run_book(book_np, N)"
   ]
  },
  {
   "cell_type": "code",
   "execution_count": 7,
   "metadata": {},
   "outputs": [
    {
     "name": "stdout",
     "output_type": "stream",
     "text": [
      "116 ms ± 3.06 ms per loop (mean ± std. dev. of 5 runs, 5 loops each)\n"
     ]
    }
   ],
   "source": [
    "time_numba = %timeit -n 5 -r 5 -o run_book(book_np, N)"
   ]
  },
  {
   "cell_type": "code",
   "execution_count": 8,
   "metadata": {},
   "outputs": [],
   "source": [
    "def run_book_no_numba(book_np, N):\n",
    "    IMB_a = np.zeros(len(book_np))\n",
    "    IMB_b = np.zeros(len(book_np))\n",
    "    for row in range(len(book_np)):\n",
    "        p_a = 0\n",
    "        need_to_buy = N[row]\n",
    "        for i in range(1, 100, 4):\n",
    "            if need_to_buy <= book_np[row][i]:\n",
    "                p_a+=need_to_buy*book_np[row][i-1]\n",
    "                need_to_buy = 0.\n",
    "                break\n",
    "            else:\n",
    "                p_a+=book_np[row][i]*book_np[row][i-1]\n",
    "                need_to_buy -=book_np[row][i]\n",
    "        if need_to_buy !=0.:\n",
    "            p_a +=need_to_buy*book_np[row][96]\n",
    "            need_to_buy =0.\n",
    "        p_a /= N[row]\n",
    "        IMB_a[row] = (p_a/book_np[row][0] - 1)*10000\n",
    "\n",
    "\n",
    "        p_b = 0\n",
    "        need_to_buy = N[row]\n",
    "        for i in range(3, 100, 4):\n",
    "            if need_to_buy <= book_np[row][i]:\n",
    "                p_b+=need_to_buy*book_np[row][i-1]\n",
    "                need_to_buy = 0.\n",
    "                break\n",
    "            else:\n",
    "                p_b+=book_np[row][i]*book_np[row][i-1]\n",
    "                need_to_buy -=book_np[row][i]\n",
    "        if need_to_buy !=0.:\n",
    "            p_b +=need_to_buy*book_np[row][98]\n",
    "            need_to_buy =0.\n",
    "        p_b /= N[row]\n",
    "        IMB_b[row] = (book_np[row][2]/p_b - 1)*10000\n",
    "    return IMB_a, IMB_b\n",
    "\n",
    "IMB_a, IMB_b = run_book_no_numba(book_np, N)"
   ]
  },
  {
   "cell_type": "code",
   "execution_count": 9,
   "metadata": {},
   "outputs": [
    {
     "name": "stdout",
     "output_type": "stream",
     "text": [
      "21.2 s ± 0 ns per loop (mean ± std. dev. of 1 run, 1 loop each)\n"
     ]
    }
   ],
   "source": [
    "time_no_numba = %timeit -n 1 -r 1 -o run_book_no_numba(book_np, N)"
   ]
  },
  {
   "cell_type": "code",
   "execution_count": 10,
   "metadata": {},
   "outputs": [
    {
     "data": {
      "text/plain": [
       "182.9828234469324"
      ]
     },
     "execution_count": 10,
     "metadata": {},
     "output_type": "execute_result"
    }
   ],
   "source": [
    "time_no_numba.average/time_numba.average"
   ]
  },
  {
   "cell_type": "code",
   "execution_count": 11,
   "metadata": {},
   "outputs": [
    {
     "data": {
      "text/plain": [
       "Text(0.5, 1.0, 'Imbalance feature plot')"
      ]
     },
     "execution_count": 11,
     "metadata": {},
     "output_type": "execute_result"
    },
    {
     "data": {
      "image/png": "[encoded data removed]",
      "text/plain": [
       "<Figure size 640x480 with 1 Axes>"
      ]
     },
     "metadata": {},
     "output_type": "display_data"
    }
   ],
   "source": [
    "import matplotlib.pyplot as plt\n",
    "plt.plot(IMB_a[:10000] - IMB_b[:10000])\n",
    "plt.xlabel('Timestamp')\n",
    "plt.ylabel('Imbalance')\n",
    "plt.title('Imbalance feature plot')"
   ]
  }
 ],
 "metadata": {
  "kernelspec": {
   "display_name": "ML_project",
   "language": "python",
   "name": "python3"
  },
  "language_info": {
   "codemirror_mode": {
    "name": "ipython",
    "version": 3
   },
   "file_extension": ".py",
   "mimetype": "text/x-python",
   "name": "python",
   "nbconvert_exporter": "python",
   "pygments_lexer": "ipython3",
   "version": "3.9.16"
  }
 },
 "nbformat": 4,
 "nbformat_minor": 2
}
